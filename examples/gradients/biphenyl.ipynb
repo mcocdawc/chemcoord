{
 "cells": [
  {
   "cell_type": "code",
   "execution_count": 1,
   "metadata": {},
   "outputs": [],
   "source": [
    "import chemcoord as cc\n",
    "from chemcoord import Cartesian\n",
    "from chemcoord.xyz_functions import view\n",
    "from chemcoord.cartesian_coordinates._cart_transformation import get_B, get_grad_B\n",
    "\n",
    "import pandas as pd\n",
    "import numpy as np"
   ]
  },
  {
   "cell_type": "code",
   "execution_count": 2,
   "metadata": {},
   "outputs": [],
   "source": [
    "m = Cartesian.read_xyz(\"./biphenyl.xyz\", start_index=1)"
   ]
  },
  {
   "cell_type": "code",
   "execution_count": 44,
   "metadata": {},
   "outputs": [],
   "source": [
    "c_table = pd.DataFrame(\n",
    "    [\n",
    "        [1, \"origin\", \"e_x\", \"e_y\"],\n",
    "        [2, 1, \"e_z\", \"e_x\"],\n",
    "        [3, 2, 1, \"e_x\"],\n",
    "        [4, 3, 2, 1],\n",
    "        [5, 4, 3, 2],\n",
    "        [6, 5, 4, 3],\n",
    "        [7, 2, 3, 4],\n",
    "        [8, 3, 4, 5],\n",
    "        [9, 4, 5, 6],\n",
    "        [10, 5, 6, 1],\n",
    "        [11, 6, 1, 2],\n",
    "        [15, 1, 4, 3],\n",
    "        [14, 15, 1, 7],\n",
    "        [13, 14, 15, 1],\n",
    "        [12, 13, 14, 15],\n",
    "        [16, 15, 14, 13],\n",
    "        [17, 16, 15, 14],\n",
    "    ],\n",
    "    columns=[\"i\", \"b\", \"a\", \"d\"],\n",
    ").set_index(\"i\")\n",
    "zm = m.get_zmat(m.get_construction_table([(m, c_table)]))\n",
    "zm.safe_loc[15, \"dihedral\"] = -90"
   ]
  },
  {
   "cell_type": "code",
   "execution_count": 47,
   "metadata": {},
   "outputs": [],
   "source": [
    "dist_zm = zm.copy()\n",
    "dist_zm.unsafe_loc[:, [\"bond\", \"angle\", \"dihedral\"]] = 0\n",
    "dist_zm.unsafe_loc[14, \"dihedral\"] = 5"
   ]
  },
  {
   "cell_type": "code",
   "execution_count": 48,
   "metadata": {},
   "outputs": [],
   "source": [
    "with cc.TestOperators(False):\n",
    "    view([(zm + dist_zm * i).get_cartesian() for i in np.linspace(0, 10)])"
   ]
  },
  {
   "cell_type": "code",
   "execution_count": 49,
   "metadata": {},
   "outputs": [],
   "source": [
    "with cc.TestOperators(False):\n",
    "    view([(m + zm.get_grad_cartesian()(dist_zm * i)) for i in np.linspace(0, 10)])"
   ]
  }
 ],
 "metadata": {
  "kernelspec": {
   "display_name": "Python 3",
   "language": "python",
   "name": "python3"
  },
  "language_info": {
   "codemirror_mode": {
    "name": "ipython",
    "version": 3
   },
   "file_extension": ".py",
   "mimetype": "text/x-python",
   "name": "python",
   "nbconvert_exporter": "python",
   "pygments_lexer": "ipython3",
   "version": "3.8.10"
  }
 },
 "nbformat": 4,
 "nbformat_minor": 4
}
