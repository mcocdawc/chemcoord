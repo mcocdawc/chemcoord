{
 "cells": [
  {
   "cell_type": "code",
   "execution_count": 1,
   "metadata": {},
   "outputs": [],
   "source": [
    "import numpy as np\n",
    "import pandas as pd\n",
    "\n",
    "import chemcoord as cc\n",
    "from chemcoord.xyz_functions import view"
   ]
  },
  {
   "cell_type": "markdown",
   "metadata": {},
   "source": [
    "# c_table_2"
   ]
  },
  {
   "cell_type": "code",
   "execution_count": 2,
   "metadata": {},
   "outputs": [],
   "source": [
    "m2 = cc.Cartesian.read_xyz(\"./ethanal.xyz\", start_index=1)"
   ]
  },
  {
   "cell_type": "code",
   "execution_count": 3,
   "metadata": {},
   "outputs": [],
   "source": [
    "c_table_2 = pd.DataFrame(\n",
    "    [\n",
    "        [1, \"origin\", \"e_x\", \"e_y\"],\n",
    "        [2, 1, \"e_z\", \"e_x\"],\n",
    "        [3, 2, 1, \"e_z\"],\n",
    "        [4, 2, 3, 1],\n",
    "        [5, 1, 2, 3],\n",
    "        [6, 1, 2, 3],\n",
    "        [7, 1, 2, 3],\n",
    "    ],\n",
    "    columns=[\"i\", \"b\", \"a\", \"d\"],\n",
    ").set_index(\"i\")\n",
    "\n",
    "zm2 = m2.get_zmat(c_table_2)"
   ]
  },
  {
   "cell_type": "markdown",
   "metadata": {},
   "source": [
    "# Ricardo example"
   ]
  },
  {
   "cell_type": "code",
   "execution_count": 4,
   "metadata": {},
   "outputs": [],
   "source": [
    "c_table_3 = pd.DataFrame(\n",
    "    [\n",
    "        [1, \"origin\", \"e_x\", \"e_y\"],\n",
    "        [2, 1, \"e_z\", \"e_x\"],\n",
    "        [3, 2, 1, \"e_z\"],\n",
    "        [4, 2, 1, 3],\n",
    "        [5, 1, 2, 3],\n",
    "        [6, 1, 2, 3],\n",
    "        [7, 1, 2, 3],\n",
    "    ],\n",
    "    columns=[\"i\", \"b\", \"a\", \"d\"],\n",
    ").set_index(\"i\")"
   ]
  },
  {
   "cell_type": "code",
   "execution_count": 5,
   "metadata": {},
   "outputs": [],
   "source": [
    "zm3 = m2.get_zmat(c_table_3)"
   ]
  },
  {
   "cell_type": "code",
   "execution_count": 6,
   "metadata": {},
   "outputs": [],
   "source": [
    "def change_angle(zm, a):\n",
    "    zm = zm.copy()\n",
    "    zm.safe_loc[3, \"angle\"] += a\n",
    "    return zm"
   ]
  },
  {
   "cell_type": "code",
   "execution_count": 7,
   "metadata": {},
   "outputs": [],
   "source": [
    "zm2 = m2.get_zmat(c_table_2)\n",
    "zm3 = m2.get_zmat(c_table_3)"
   ]
  },
  {
   "cell_type": "code",
   "execution_count": 8,
   "metadata": {},
   "outputs": [],
   "source": [
    "dist_zm = zm2.copy()\n",
    "dist_zm.unsafe_loc[:, [\"bond\", \"angle\", \"dihedral\"]] = 0\n",
    "dist_zm.unsafe_loc[3, \"angle\"] = 1"
   ]
  },
  {
   "cell_type": "code",
   "execution_count": 9,
   "metadata": {},
   "outputs": [],
   "source": [
    "with cc.TestOperators(False):\n",
    "    view([(m2 + zm2.get_grad_cartesian()(dist_zm * i)) for i in np.linspace(0, 50)])"
   ]
  },
  {
   "cell_type": "code",
   "execution_count": 10,
   "metadata": {},
   "outputs": [],
   "source": [
    "with cc.TestOperators(False):\n",
    "    view([(m2 + zm3.get_grad_cartesian()(dist_zm * i)) for i in np.linspace(0, 50)])"
   ]
  },
  {
   "cell_type": "code",
   "execution_count": null,
   "metadata": {},
   "outputs": [],
   "source": []
  }
 ],
 "metadata": {
  "kernelspec": {
   "display_name": "Python 3",
   "language": "python",
   "name": "python3"
  },
  "language_info": {
   "codemirror_mode": {
    "name": "ipython",
    "version": 3
   },
   "file_extension": ".py",
   "mimetype": "text/x-python",
   "name": "python",
   "nbconvert_exporter": "python",
   "pygments_lexer": "ipython3",
   "version": "3.8.10"
  }
 },
 "nbformat": 4,
 "nbformat_minor": 4
}
