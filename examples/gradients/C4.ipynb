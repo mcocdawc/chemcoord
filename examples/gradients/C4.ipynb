{
 "cells": [
  {
   "cell_type": "code",
   "execution_count": 1,
   "metadata": {},
   "outputs": [],
   "source": [
    "import numpy as np\n",
    "import pandas as pd\n",
    "\n",
    "import chemcoord as cc\n",
    "from chemcoord import Cartesian\n",
    "from chemcoord.xyz_functions import view"
   ]
  },
  {
   "cell_type": "code",
   "execution_count": 2,
   "metadata": {},
   "outputs": [],
   "source": [
    "m = Cartesian.read_xyz(\"./C4.xyz\", start_index=0)"
   ]
  },
  {
   "cell_type": "code",
   "execution_count": 3,
   "metadata": {},
   "outputs": [],
   "source": [
    "c_table = pd.DataFrame(\n",
    "    [\n",
    "        [0, \"origin\", \"e_x\", \"e_y\"],\n",
    "        [1, 0, \"e_z\", \"e_x\"],\n",
    "        [2, 1, 0, \"e_x\"],\n",
    "        [3, 2, 1, 0],\n",
    "    ],\n",
    "    columns=[\"i\", \"b\", \"a\", \"d\"],\n",
    ").set_index(\"i\")\n",
    "zm = m.get_zmat(c_table)"
   ]
  },
  {
   "cell_type": "code",
   "execution_count": 4,
   "metadata": {},
   "outputs": [],
   "source": [
    "dist_zm = zm.copy()\n",
    "dist_zm.unsafe_loc[:, [\"bond\", \"angle\", \"dihedral\"]] = 0\n",
    "dist_zm.unsafe_loc[1, \"angle\"] = 5"
   ]
  },
  {
   "cell_type": "code",
   "execution_count": 5,
   "metadata": {},
   "outputs": [],
   "source": [
    "with cc.TestOperators(False):\n",
    "    view([(zm + dist_zm * i).get_cartesian() for i in np.linspace(0, 10)])"
   ]
  },
  {
   "cell_type": "code",
   "execution_count": 6,
   "metadata": {},
   "outputs": [],
   "source": [
    "with cc.TestOperators(False):\n",
    "    view([(m + zm.get_grad_cartesian()(dist_zm * i)) for i in np.linspace(0, 20)])"
   ]
  }
 ],
 "metadata": {
  "kernelspec": {
   "display_name": "Python 3",
   "language": "python",
   "name": "python3"
  },
  "language_info": {
   "codemirror_mode": {
    "name": "ipython",
    "version": 3
   },
   "file_extension": ".py",
   "mimetype": "text/x-python",
   "name": "python",
   "nbconvert_exporter": "python",
   "pygments_lexer": "ipython3",
   "version": "3.8.10"
  }
 },
 "nbformat": 4,
 "nbformat_minor": 4
}
