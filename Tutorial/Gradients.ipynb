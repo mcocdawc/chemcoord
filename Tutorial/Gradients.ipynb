{
 "cells": [
  {
   "cell_type": "markdown",
   "metadata": {},
   "source": [
    "# Gradients"
   ]
  },
  {
   "cell_type": "code",
   "execution_count": 1,
   "metadata": {},
   "outputs": [],
   "source": [
    "import numpy as np\n",
    "import pandas as pd\n",
    "import sympy\n",
    "\n",
    "import chemcoord as cc\n",
    "\n",
    "sympy.init_printing()"
   ]
  },
  {
   "cell_type": "code",
   "execution_count": 2,
   "metadata": {},
   "outputs": [],
   "source": [
    "molecule = cc.Cartesian.read_xyz(\"MIL53_beta.xyz\", start_index=1)\n",
    "r, theta = sympy.symbols(\"r, theta\", real=True)"
   ]
  },
  {
   "cell_type": "markdown",
   "metadata": {},
   "source": [
    "Let's build the construction table in order to bend one of the terephtalic acid ligands."
   ]
  },
  {
   "cell_type": "code",
   "execution_count": 3,
   "metadata": {},
   "outputs": [],
   "source": [
    "fragment = molecule.get_fragment([(12, 17), (55, 60)])\n",
    "connection = np.array([[3, 99, 1, 12], [17, 3, 99, 12], [60, 3, 17, 12]])\n",
    "connection = pd.DataFrame(\n",
    "    connection[:, 1:], index=connection[:, 0], columns=[\"b\", \"a\", \"d\"]\n",
    ")\n",
    "c_table = molecule.get_construction_table([(fragment, connection)])\n",
    "molecule = molecule.loc[c_table.index]\n",
    "zmolecule = molecule.get_zmat(c_table)"
   ]
  },
  {
   "cell_type": "markdown",
   "metadata": {},
   "source": [
    "This gives the following movement:"
   ]
  },
  {
   "cell_type": "code",
   "execution_count": 4,
   "metadata": {},
   "outputs": [],
   "source": [
    "zmolecule_symb = zmolecule.copy()\n",
    "zmolecule_symb.safe_loc[3, \"angle\"] += theta\n",
    "\n",
    "cc.xyz_functions.view(\n",
    "    [zmolecule_symb.subs(theta, a).get_cartesian() for a in [-30, 0, 30]]\n",
    ")"
   ]
  },
  {
   "cell_type": "markdown",
   "metadata": {},
   "source": [
    "# Gradient for Zmat to Cartesian"
   ]
  },
  {
   "cell_type": "markdown",
   "metadata": {},
   "source": [
    "For the gradients it is very illustrating to compare:\n",
    "$$\n",
    "f(x + h) \\approx f(x) + f'(x) h\n",
    "$$\n",
    "\n",
    "$f(x + h)$ will be ``zmolecule2``\n",
    "\n",
    "and\n",
    "$h$ will be dist_zmol\n",
    "\n",
    "The boolean ``chain`` argument denotes if the movement should be chained or not."
   ]
  },
  {
   "cell_type": "markdown",
   "metadata": {},
   "source": [
    "##### Bond"
   ]
  },
  {
   "cell_type": "code",
   "execution_count": 5,
   "metadata": {},
   "outputs": [],
   "source": [
    "dist_zmol1 = zmolecule.copy()\n",
    "\n",
    "r = 3\n",
    "\n",
    "dist_zmol1.unsafe_loc[:, [\"bond\", \"angle\", \"dihedral\"]] = 0\n",
    "dist_zmol1.unsafe_loc[3, \"bond\"] = r"
   ]
  },
  {
   "cell_type": "code",
   "execution_count": 6,
   "metadata": {},
   "outputs": [],
   "source": [
    "cc.xyz_functions.view(\n",
    "    [\n",
    "        molecule,\n",
    "        molecule + zmolecule.get_grad_cartesian(chain=False)(dist_zmol1),\n",
    "        molecule + zmolecule.get_grad_cartesian()(dist_zmol1),\n",
    "        (zmolecule + dist_zmol1).get_cartesian(),\n",
    "    ]\n",
    ")"
   ]
  },
  {
   "cell_type": "markdown",
   "metadata": {},
   "source": [
    "##### Angle"
   ]
  },
  {
   "cell_type": "code",
   "execution_count": 7,
   "metadata": {},
   "outputs": [],
   "source": [
    "angle = 30"
   ]
  },
  {
   "cell_type": "code",
   "execution_count": 8,
   "metadata": {},
   "outputs": [],
   "source": [
    "dist_zmol2 = zmolecule.copy()\n",
    "dist_zmol2.unsafe_loc[:, [\"bond\", \"angle\", \"dihedral\"]] = 0\n",
    "dist_zmol2.unsafe_loc[3, \"angle\"] = angle"
   ]
  },
  {
   "cell_type": "code",
   "execution_count": 9,
   "metadata": {},
   "outputs": [],
   "source": [
    "cc.xyz_functions.view(\n",
    "    [\n",
    "        molecule,\n",
    "        molecule + zmolecule.get_grad_cartesian(chain=False)(dist_zmol2),\n",
    "        molecule + zmolecule.get_grad_cartesian()(dist_zmol2),\n",
    "        (zmolecule + dist_zmol2).get_cartesian(),\n",
    "    ]\n",
    ")"
   ]
  },
  {
   "cell_type": "markdown",
   "metadata": {},
   "source": [
    "Note that the deviation between $f(x + h)$ and $f(x) + h f'(x)$ is not an error in the implementation but a visualisation of the [small angle approximation](https://en.wikipedia.org/wiki/Small-angle_approximation).\n",
    "\n",
    "The smaller the angle the better is the linearisation."
   ]
  },
  {
   "cell_type": "markdown",
   "metadata": {},
   "source": [
    "# Gradient for Cartesian to Zmat"
   ]
  },
  {
   "cell_type": "code",
   "execution_count": 10,
   "metadata": {},
   "outputs": [],
   "source": [
    "x_dist = 2\n",
    "\n",
    "dist_mol = molecule.copy()\n",
    "dist_mol.loc[:, [\"x\", \"y\", \"z\"]] = 0.0\n",
    "dist_mol.loc[13, \"x\"] = x_dist"
   ]
  },
  {
   "cell_type": "code",
   "execution_count": 11,
   "metadata": {},
   "outputs": [],
   "source": [
    "zmat_dist = molecule.get_grad_zmat(c_table)(dist_mol)"
   ]
  },
  {
   "cell_type": "markdown",
   "metadata": {},
   "source": [
    "It is immediately obvious, that only the ``['bond', 'angle', 'dihedral']`` of those atoms change,\n",
    "which are either moved themselves in cartesian space or use moved references."
   ]
  },
  {
   "cell_type": "code",
   "execution_count": 12,
   "metadata": {},
   "outputs": [
    {
     "data": {
      "text/html": [
       "<div>\n",
       "<style scoped>\n",
       "    .dataframe tbody tr th:only-of-type {\n",
       "        vertical-align: middle;\n",
       "    }\n",
       "\n",
       "    .dataframe tbody tr th {\n",
       "        vertical-align: top;\n",
       "    }\n",
       "\n",
       "    .dataframe thead th {\n",
       "        text-align: right;\n",
       "    }\n",
       "</style>\n",
       "<table border=\"1\" class=\"dataframe\">\n",
       "  <thead>\n",
       "    <tr style=\"text-align: right;\">\n",
       "      <th></th>\n",
       "      <th>atom</th>\n",
       "      <th>b</th>\n",
       "      <th>bond</th>\n",
       "      <th>a</th>\n",
       "      <th>angle</th>\n",
       "      <th>d</th>\n",
       "      <th>dihedral</th>\n",
       "    </tr>\n",
       "  </thead>\n",
       "  <tbody>\n",
       "    <tr>\n",
       "      <th>13</th>\n",
       "      <td>O</td>\n",
       "      <td>12</td>\n",
       "      <td>1.521692e+00</td>\n",
       "      <td>99</td>\n",
       "      <td>-1.387881e+01</td>\n",
       "      <td>2</td>\n",
       "      <td>36.649299</td>\n",
       "    </tr>\n",
       "    <tr>\n",
       "      <th>11</th>\n",
       "      <td>C</td>\n",
       "      <td>13</td>\n",
       "      <td>-8.852016e-01</td>\n",
       "      <td>12</td>\n",
       "      <td>-6.848733e+01</td>\n",
       "      <td>99</td>\n",
       "      <td>112.390250</td>\n",
       "    </tr>\n",
       "    <tr>\n",
       "      <th>23</th>\n",
       "      <td>C</td>\n",
       "      <td>11</td>\n",
       "      <td>8.345283e-16</td>\n",
       "      <td>13</td>\n",
       "      <td>-6.350987e+01</td>\n",
       "      <td>12</td>\n",
       "      <td>-87.668150</td>\n",
       "    </tr>\n",
       "    <tr>\n",
       "      <th>21</th>\n",
       "      <td>O</td>\n",
       "      <td>11</td>\n",
       "      <td>1.493673e-16</td>\n",
       "      <td>13</td>\n",
       "      <td>6.350985e+01</td>\n",
       "      <td>12</td>\n",
       "      <td>-140.238538</td>\n",
       "    </tr>\n",
       "    <tr>\n",
       "      <th>25</th>\n",
       "      <td>C</td>\n",
       "      <td>23</td>\n",
       "      <td>4.689136e-17</td>\n",
       "      <td>11</td>\n",
       "      <td>-1.119645e-15</td>\n",
       "      <td>13</td>\n",
       "      <td>-54.808771</td>\n",
       "    </tr>\n",
       "    <tr>\n",
       "      <th>27</th>\n",
       "      <td>C</td>\n",
       "      <td>23</td>\n",
       "      <td>-5.162506e-18</td>\n",
       "      <td>11</td>\n",
       "      <td>1.215341e-16</td>\n",
       "      <td>13</td>\n",
       "      <td>-54.808771</td>\n",
       "    </tr>\n",
       "    <tr>\n",
       "      <th>50</th>\n",
       "      <td>H</td>\n",
       "      <td>21</td>\n",
       "      <td>1.283378e-16</td>\n",
       "      <td>11</td>\n",
       "      <td>-2.369104e-15</td>\n",
       "      <td>13</td>\n",
       "      <td>52.372802</td>\n",
       "    </tr>\n",
       "  </tbody>\n",
       "</table>\n",
       "</div>"
      ],
      "text/plain": [
       "   atom   b          bond   a         angle   d    dihedral\n",
       "13    O  12  1.521692e+00  99 -1.387881e+01   2   36.649299\n",
       "11    C  13 -8.852016e-01  12 -6.848733e+01  99  112.390250\n",
       "23    C  11  8.345283e-16  13 -6.350987e+01  12  -87.668150\n",
       "21    O  11  1.493673e-16  13  6.350985e+01  12 -140.238538\n",
       "25    C  23  4.689136e-17  11 -1.119645e-15  13  -54.808771\n",
       "27    C  23 -5.162506e-18  11  1.215341e-16  13  -54.808771\n",
       "50    H  21  1.283378e-16  11 -2.369104e-15  13   52.372802"
      ]
     },
     "execution_count": 12,
     "metadata": {},
     "output_type": "execute_result"
    }
   ],
   "source": [
    "zmat_dist[(zmat_dist.loc[:, [\"bond\", \"angle\", \"dihedral\"]] != 0).any(axis=1)]"
   ]
  }
 ],
 "metadata": {
  "kernelspec": {
   "display_name": "Python 3",
   "language": "python",
   "name": "python3"
  },
  "language_info": {
   "codemirror_mode": {
    "name": "ipython",
    "version": 3
   },
   "file_extension": ".py",
   "mimetype": "text/x-python",
   "name": "python",
   "nbconvert_exporter": "python",
   "pygments_lexer": "ipython3",
   "version": "3.8.10"
  }
 },
 "nbformat": 4,
 "nbformat_minor": 4
}
